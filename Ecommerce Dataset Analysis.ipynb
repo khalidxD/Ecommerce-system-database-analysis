{
 "cells": [
  {
   "cell_type": "markdown",
   "id": "d2622d61",
   "metadata": {},
   "source": [
    "# Ecommerce Dataset Analysis\n",
    "> Ask yourself 15 analystical questions that you belive will help the managers in decision making"
   ]
  },
  {
   "cell_type": "code",
   "execution_count": null,
   "id": "4356b239",
   "metadata": {},
   "outputs": [],
   "source": []
  }
 ],
 "metadata": {
  "kernelspec": {
   "display_name": "Python 3",
   "language": "python",
   "name": "python3"
  },
  "language_info": {
   "codemirror_mode": {
    "name": "ipython",
    "version": 3
   },
   "file_extension": ".py",
   "mimetype": "text/x-python",
   "name": "python",
   "nbconvert_exporter": "python",
   "pygments_lexer": "ipython3",
   "version": "3.8.8"
  }
 },
 "nbformat": 4,
 "nbformat_minor": 5
}
